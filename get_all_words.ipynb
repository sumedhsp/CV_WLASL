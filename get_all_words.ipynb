{
 "cells": [
  {
   "cell_type": "code",
   "execution_count": null,
   "metadata": {},
   "outputs": [],
   "source": [
    "downloaded_ids = set()\n",
    "with open('code/I3D/preprocess/nslt_1000.json', 'r') as id_file:\n",
    "    for line in id_file.readlines():\n",
    "        line = line.strip()\n",
    "        video_id = line.split('.')[0]\n",
    "        downloaded_ids.add(video_id) "
   ]
  },
  {
   "cell_type": "code",
   "execution_count": 19,
   "metadata": {},
   "outputs": [],
   "source": [
    "import json\n",
    "\n",
    "output_file_path = \"code/I3D/preprocess/nslt_1000.json\"\n",
    "content = json.load(open(output_file_path))\n",
    "video_ids = {}\n",
    "for entry in content:\n",
    "    class_no = content[entry]['action'][0]\n",
    "    video_ids[entry] = class_no\n",
    "    #if (class_no not in video_ids):\n",
    "    #    video_ids[] = [entry]\n",
    "    #else:\n",
    "    #    video_ids[class_no].append(entry)"
   ]
  },
  {
   "cell_type": "code",
   "execution_count": 14,
   "metadata": {},
   "outputs": [
    {
     "data": {
      "text/plain": [
       "{'subset': 'train', 'action': [481, 1, 74]}"
      ]
     },
     "execution_count": 14,
     "metadata": {},
     "output_type": "execute_result"
    }
   ],
   "source": [
    "content['65097']"
   ]
  },
  {
   "cell_type": "code",
   "execution_count": 20,
   "metadata": {},
   "outputs": [
    {
     "name": "stdout",
     "output_type": "stream",
     "text": [
      "13174\n"
     ]
    }
   ],
   "source": [
    "print (len(video_ids))"
   ]
  },
  {
   "cell_type": "code",
   "execution_count": 22,
   "metadata": {},
   "outputs": [],
   "source": [
    "'''ids = set()\n",
    "for i in video_ids:\n",
    "    for video in video_ids[i]:\n",
    "        ids.add(video)'''\n",
    "mapping_class_word = {}"
   ]
  },
  {
   "cell_type": "code",
   "execution_count": 30,
   "metadata": {},
   "outputs": [],
   "source": [
    "words = {}\n",
    "content = json.load(open(\"start_kit/WLASL_v0.3.json\"))\n",
    "count = 0\n",
    "for entry in content:\n",
    "    gloss = entry['gloss']\n",
    "    instances = entry['instances']\n",
    "\n",
    "    for inst in instances:\n",
    "        if (inst['video_id'] in video_ids):\n",
    "            num = video_ids[inst['video_id']]\n",
    "            mapping_class_word[num] = gloss"
   ]
  },
  {
   "cell_type": "code",
   "execution_count": 31,
   "metadata": {},
   "outputs": [],
   "source": [
    "list_words = []\n",
    "for i in range(1000):\n",
    "    list_words.append(mapping_class_word[i])"
   ]
  },
  {
   "cell_type": "code",
   "execution_count": 33,
   "metadata": {},
   "outputs": [],
   "source": [
    "with open(\"words.txt\", \"w\") as output:\n",
    "    output.write(','.join(list_words))"
   ]
  },
  {
   "cell_type": "code",
   "execution_count": null,
   "metadata": {},
   "outputs": [],
   "source": []
  }
 ],
 "metadata": {
  "kernelspec": {
   "display_name": "base",
   "language": "python",
   "name": "python3"
  },
  "language_info": {
   "codemirror_mode": {
    "name": "ipython",
    "version": 3
   },
   "file_extension": ".py",
   "mimetype": "text/x-python",
   "name": "python",
   "nbconvert_exporter": "python",
   "pygments_lexer": "ipython3",
   "version": "3.11.5"
  }
 },
 "nbformat": 4,
 "nbformat_minor": 2
}
