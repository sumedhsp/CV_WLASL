{
 "cells": [
  {
   "cell_type": "code",
   "execution_count": 1,
   "metadata": {},
   "outputs": [],
   "source": [
    "from pytube import YouTube"
   ]
  },
  {
   "cell_type": "code",
   "execution_count": 2,
   "metadata": {},
   "outputs": [
    {
     "name": "stdout",
     "output_type": "stream",
     "text": [
      "An error occurred: HTTP Error 403: Forbidden\n"
     ]
    }
   ],
   "source": [
    "def download_youtube_video(video_url, save_path=\".\"):\n",
    "    \"\"\"\n",
    "    Downloads a YouTube video.\n",
    "\n",
    "    Parameters:\n",
    "    - video_url (str): The URL of the YouTube video.\n",
    "    - save_path (str): The directory where the video will be saved. Default is the current directory.\n",
    "\n",
    "    Returns:\n",
    "    - str: Path of the downloaded video file.\n",
    "    \"\"\"\n",
    "    try:\n",
    "        # Create YouTube object\n",
    "        yt = YouTube(video_url)\n",
    "        \n",
    "        # Get the highest resolution stream\n",
    "        stream = yt.streams.get_highest_resolution()\n",
    "        \n",
    "        print(f\"Downloading '{yt.title}'...\")\n",
    "        \n",
    "        # Download the video\n",
    "        downloaded_file = stream.download(output_path=save_path)\n",
    "        \n",
    "        print(f\"Download completed! File saved at: {downloaded_file}\")\n",
    "        return downloaded_file\n",
    "    except Exception as e:\n",
    "        print(f\"An error occurred: {e}\")\n",
    "        return None\n",
    "\n",
    "\n",
    "video_url = \"https://www.youtube.com/watch?v=aGtIHKEdCds\"\n",
    "download_youtube_video(video_url)\n"
   ]
  },
  {
   "cell_type": "code",
   "execution_count": 3,
   "metadata": {},
   "outputs": [
    {
     "name": "stdout",
     "output_type": "stream",
     "text": [
      "Downloading video from https://www.youtube.com/watch?v=aGtIHKEdCds...\n",
      "[youtube] Extracting URL: https://www.youtube.com/watch?v=aGtIHKEdCds\n",
      "[youtube] aGtIHKEdCds: Downloading webpage\n",
      "[youtube] aGtIHKEdCds: Downloading ios player API JSON\n",
      "[youtube] aGtIHKEdCds: Downloading mweb player API JSON\n",
      "[youtube] aGtIHKEdCds: Downloading player 3cb7dfbf\n",
      "[youtube] aGtIHKEdCds: Downloading m3u8 information\n",
      "[info] aGtIHKEdCds: Downloading 1 format(s): 18\n",
      "[download] Destination: BOOK.mp4\n",
      "[download] 100% of  195.25KiB in 00:00:00 at 727.24KiB/s \n",
      "Download completed!\n"
     ]
    }
   ],
   "source": [
    "import yt_dlp\n",
    "\n",
    "def download_youtube_video(video_url, save_path=\".\"):\n",
    "    \"\"\"\n",
    "    Downloads a YouTube video using yt-dlp.\n",
    "\n",
    "    Parameters:\n",
    "    - video_url (str): The URL of the YouTube video.\n",
    "    - save_path (str): The directory where the video will be saved. Default is the current directory.\n",
    "\n",
    "    Returns:\n",
    "    - None\n",
    "    \"\"\"\n",
    "    try:\n",
    "        # Set options for yt-dlp\n",
    "        ydl_opts = {\n",
    "            'outtmpl': f'{save_path}/%(title)s.%(ext)s',  # Save file with the title as filename\n",
    "            'format': 'best',  # Download the best quality\n",
    "        }\n",
    "        with yt_dlp.YoutubeDL(ydl_opts) as ydl:\n",
    "            print(f\"Downloading video from {video_url}...\")\n",
    "            ydl.download([video_url])\n",
    "        print(\"Download completed!\")\n",
    "    except Exception as e:\n",
    "        print(f\"An error occurred: {e}\")\n",
    "\n",
    "\n",
    "video_url = \"https://www.youtube.com/watch?v=aGtIHKEdCds\"\n",
    "download_youtube_video(video_url)\n"
   ]
  },
  {
   "cell_type": "code",
   "execution_count": 4,
   "metadata": {},
   "outputs": [],
   "source": [
    "import json\n",
    "\n",
    "def count_records_in_json(file_path):\n",
    "    \"\"\"\n",
    "    Load a JSON file and count the number of records.\n",
    "\n",
    "    Parameters:\n",
    "    - file_path (str): Path to the JSON file.\n",
    "\n",
    "    Returns:\n",
    "    - int: Number of records in the JSON file.\n",
    "    \"\"\"\n",
    "    try:\n",
    "        # Open and load the JSON file\n",
    "        with open(file_path, 'r') as file:\n",
    "            data = json.load(file)\n",
    "        \n",
    "        # Determine the number of records\n",
    "        if isinstance(data, list):  # If JSON is a list of records\n",
    "            num_records = len(data)\n",
    "        elif isinstance(data, dict):  # If JSON is a dictionary\n",
    "            num_records = len(data.keys())\n",
    "        else:\n",
    "            raise ValueError(\"Unsupported JSON structure for counting records.\")\n",
    "        \n",
    "        return num_records\n",
    "    except Exception as e:\n",
    "        print(f\"Error reading the JSON file: {e}\")\n",
    "        return None\n",
    "\n",
    "\n",
    "num_records = count_records_in_json(\"start_kit/WLASL_v0.3.json\")\n"
   ]
  },
  {
   "cell_type": "code",
   "execution_count": 6,
   "metadata": {},
   "outputs": [],
   "source": [
    "file_path = \"start_kit/WLASL_v0.3.json\"\n",
    "with open(file_path, 'r') as file:\n",
    "    data = json.load(file)"
   ]
  },
  {
   "cell_type": "code",
   "execution_count": 17,
   "metadata": {},
   "outputs": [
    {
     "data": {
      "text/plain": [
       "21083"
      ]
     },
     "execution_count": 17,
     "metadata": {},
     "output_type": "execute_result"
    }
   ],
   "source": [
    "content = json.load(open(file_path))\n",
    "count = 0\n",
    "for entry in content:\n",
    "    gloss = entry['gloss']\n",
    "    instances = entry['instances']\n",
    "\n",
    "    for inst in instances:\n",
    "        count += 1\n",
    "\n",
    "count"
   ]
  },
  {
   "cell_type": "code",
   "execution_count": null,
   "metadata": {},
   "outputs": [],
   "source": []
  }
 ],
 "metadata": {
  "kernelspec": {
   "display_name": "base",
   "language": "python",
   "name": "python3"
  },
  "language_info": {
   "codemirror_mode": {
    "name": "ipython",
    "version": 3
   },
   "file_extension": ".py",
   "mimetype": "text/x-python",
   "name": "python",
   "nbconvert_exporter": "python",
   "pygments_lexer": "ipython3",
   "version": "3.11.5"
  }
 },
 "nbformat": 4,
 "nbformat_minor": 2
}
